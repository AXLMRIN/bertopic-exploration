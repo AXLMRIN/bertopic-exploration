{
 "cells": [
  {
   "cell_type": "code",
   "execution_count": 1,
   "metadata": {},
   "outputs": [
    {
     "name": "stderr",
     "output_type": "stream",
     "text": [
      "/opt/miniconda3/envs/bertopic/lib/python3.11/site-packages/tqdm/auto.py:21: TqdmWarning: IProgress not found. Please update jupyter and ipywidgets. See https://ipywidgets.readthedocs.io/en/stable/user_install.html\n",
      "  from .autonotebook import tqdm as notebook_tqdm\n"
     ]
    },
    {
     "ename": "TypeError",
     "evalue": "'<' not supported between instances of 'float' and 'NoneType'",
     "output_type": "error",
     "traceback": [
      "\u001b[31m---------------------------------------------------------------------------\u001b[39m",
      "\u001b[31mTypeError\u001b[39m                                 Traceback (most recent call last)",
      "\u001b[36mFile \u001b[39m\u001b[32m/opt/miniconda3/envs/bertopic/lib/python3.11/site-packages/bertopic/_bertopic.py:3794\u001b[39m, in \u001b[36mBERTopic._reduce_dimensionality\u001b[39m\u001b[34m(self, embeddings, y, partial_fit)\u001b[39m\n\u001b[32m   3793\u001b[39m     y = np.array(y) \u001b[38;5;28;01mif\u001b[39;00m y \u001b[38;5;129;01mis\u001b[39;00m \u001b[38;5;129;01mnot\u001b[39;00m \u001b[38;5;28;01mNone\u001b[39;00m \u001b[38;5;28;01melse\u001b[39;00m \u001b[38;5;28;01mNone\u001b[39;00m\n\u001b[32m-> \u001b[39m\u001b[32m3794\u001b[39m     \u001b[38;5;28;43mself\u001b[39;49m\u001b[43m.\u001b[49m\u001b[43mumap_model\u001b[49m\u001b[43m.\u001b[49m\u001b[43mfit\u001b[49m\u001b[43m(\u001b[49m\u001b[43membeddings\u001b[49m\u001b[43m,\u001b[49m\u001b[43m \u001b[49m\u001b[43my\u001b[49m\u001b[43m=\u001b[49m\u001b[43my\u001b[49m\u001b[43m)\u001b[49m\n\u001b[32m   3795\u001b[39m \u001b[38;5;28;01mexcept\u001b[39;00m \u001b[38;5;167;01mTypeError\u001b[39;00m:\n",
      "\u001b[36mFile \u001b[39m\u001b[32m/opt/miniconda3/envs/bertopic/lib/python3.11/site-packages/umap/umap_.py:2383\u001b[39m, in \u001b[36mUMAP.fit\u001b[39m\u001b[34m(self, X, y, ensure_all_finite, **kwargs)\u001b[39m\n\u001b[32m   2382\u001b[39m \u001b[38;5;28;01mif\u001b[39;00m \u001b[38;5;28mself\u001b[39m.a \u001b[38;5;129;01mis\u001b[39;00m \u001b[38;5;28;01mNone\u001b[39;00m \u001b[38;5;129;01mor\u001b[39;00m \u001b[38;5;28mself\u001b[39m.b \u001b[38;5;129;01mis\u001b[39;00m \u001b[38;5;28;01mNone\u001b[39;00m:\n\u001b[32m-> \u001b[39m\u001b[32m2383\u001b[39m     \u001b[38;5;28mself\u001b[39m._a, \u001b[38;5;28mself\u001b[39m._b = \u001b[43mfind_ab_params\u001b[49m\u001b[43m(\u001b[49m\u001b[38;5;28;43mself\u001b[39;49m\u001b[43m.\u001b[49m\u001b[43mspread\u001b[49m\u001b[43m,\u001b[49m\u001b[43m \u001b[49m\u001b[38;5;28;43mself\u001b[39;49m\u001b[43m.\u001b[49m\u001b[43mmin_dist\u001b[49m\u001b[43m)\u001b[49m\n\u001b[32m   2384\u001b[39m \u001b[38;5;28;01melse\u001b[39;00m:\n",
      "\u001b[36mFile \u001b[39m\u001b[32m/opt/miniconda3/envs/bertopic/lib/python3.11/site-packages/umap/umap_.py:1405\u001b[39m, in \u001b[36mfind_ab_params\u001b[39m\u001b[34m(spread, min_dist)\u001b[39m\n\u001b[32m   1404\u001b[39m yv = np.zeros(xv.shape)\n\u001b[32m-> \u001b[39m\u001b[32m1405\u001b[39m yv[\u001b[43mxv\u001b[49m\u001b[43m \u001b[49m\u001b[43m<\u001b[49m\u001b[43m \u001b[49m\u001b[43mmin_dist\u001b[49m] = \u001b[32m1.0\u001b[39m\n\u001b[32m   1406\u001b[39m yv[xv >= min_dist] = np.exp(-(xv[xv >= min_dist] - min_dist) / spread)\n",
      "\u001b[31mTypeError\u001b[39m: '<' not supported between instances of 'float' and 'NoneType'",
      "\nDuring handling of the above exception, another exception occurred:\n",
      "\u001b[31mTypeError\u001b[39m                                 Traceback (most recent call last)",
      "\u001b[36mCell\u001b[39m\u001b[36m \u001b[39m\u001b[32mIn[1]\u001b[39m\u001b[32m, line 30\u001b[39m\n\u001b[32m     23\u001b[39m topic_model_parameters = {\n\u001b[32m     24\u001b[39m     \u001b[33m\"\u001b[39m\u001b[33mnr_topics\u001b[39m\u001b[33m\"\u001b[39m         : \u001b[38;5;28;01mNone\u001b[39;00m, \n\u001b[32m     25\u001b[39m     \u001b[33m\"\u001b[39m\u001b[33mmin_topic_size\u001b[39m\u001b[33m\"\u001b[39m    : \u001b[38;5;28;01mNone\u001b[39;00m\n\u001b[32m     26\u001b[39m }\n\u001b[32m     28\u001b[39m topic_model = tbx.setup(umap_model_parameters, hdbscan_model_parameters, topic_model_parameters)\n\u001b[32m---> \u001b[39m\u001b[32m30\u001b[39m predictions, probabilities = \u001b[43mtopic_model\u001b[49m\u001b[43m.\u001b[49m\u001b[43mfit_transform\u001b[49m\u001b[43m(\u001b[49m\n\u001b[32m     31\u001b[39m \u001b[43m    \u001b[49m\u001b[43mtbx\u001b[49m\u001b[43m.\u001b[49m\u001b[43mfetch_documents_and_embedding\u001b[49m\u001b[43m(\u001b[49m\u001b[43m)\u001b[49m\u001b[43m[\u001b[49m\u001b[33;43m\"\u001b[39;49m\u001b[33;43mdocuments\u001b[39;49m\u001b[33;43m\"\u001b[39;49m\u001b[43m]\u001b[49m\n\u001b[32m     32\u001b[39m \u001b[43m)\u001b[49m\n",
      "\u001b[36mFile \u001b[39m\u001b[32m/opt/miniconda3/envs/bertopic/lib/python3.11/site-packages/bertopic/_bertopic.py:472\u001b[39m, in \u001b[36mBERTopic.fit_transform\u001b[39m\u001b[34m(self, documents, embeddings, images, y)\u001b[39m\n\u001b[32m    469\u001b[39m     y, embeddings = \u001b[38;5;28mself\u001b[39m._guided_topic_modeling(embeddings)\n\u001b[32m    471\u001b[39m \u001b[38;5;66;03m# Reduce dimensionality and fit UMAP model\u001b[39;00m\n\u001b[32m--> \u001b[39m\u001b[32m472\u001b[39m umap_embeddings = \u001b[38;5;28;43mself\u001b[39;49m\u001b[43m.\u001b[49m\u001b[43m_reduce_dimensionality\u001b[49m\u001b[43m(\u001b[49m\u001b[43membeddings\u001b[49m\u001b[43m,\u001b[49m\u001b[43m \u001b[49m\u001b[43my\u001b[49m\u001b[43m)\u001b[49m\n\u001b[32m    474\u001b[39m \u001b[38;5;66;03m# Zero-shot Topic Modeling\u001b[39;00m\n\u001b[32m    475\u001b[39m \u001b[38;5;28;01mif\u001b[39;00m \u001b[38;5;28mself\u001b[39m._is_zeroshot():\n",
      "\u001b[36mFile \u001b[39m\u001b[32m/opt/miniconda3/envs/bertopic/lib/python3.11/site-packages/bertopic/_bertopic.py:3796\u001b[39m, in \u001b[36mBERTopic._reduce_dimensionality\u001b[39m\u001b[34m(self, embeddings, y, partial_fit)\u001b[39m\n\u001b[32m   3794\u001b[39m         \u001b[38;5;28mself\u001b[39m.umap_model.fit(embeddings, y=y)\n\u001b[32m   3795\u001b[39m     \u001b[38;5;28;01mexcept\u001b[39;00m \u001b[38;5;167;01mTypeError\u001b[39;00m:\n\u001b[32m-> \u001b[39m\u001b[32m3796\u001b[39m         \u001b[38;5;28;43mself\u001b[39;49m\u001b[43m.\u001b[49m\u001b[43mumap_model\u001b[49m\u001b[43m.\u001b[49m\u001b[43mfit\u001b[49m\u001b[43m(\u001b[49m\u001b[43membeddings\u001b[49m\u001b[43m)\u001b[49m\n\u001b[32m   3798\u001b[39m umap_embeddings = \u001b[38;5;28mself\u001b[39m.umap_model.transform(embeddings)\n\u001b[32m   3799\u001b[39m logger.info(\u001b[33m\"\u001b[39m\u001b[33mDimensionality - Completed \u001b[39m\u001b[38;5;130;01m\\u2713\u001b[39;00m\u001b[33m\"\u001b[39m)\n",
      "\u001b[36mFile \u001b[39m\u001b[32m/opt/miniconda3/envs/bertopic/lib/python3.11/site-packages/umap/umap_.py:2383\u001b[39m, in \u001b[36mUMAP.fit\u001b[39m\u001b[34m(self, X, y, ensure_all_finite, **kwargs)\u001b[39m\n\u001b[32m   2381\u001b[39m \u001b[38;5;66;03m# Handle all the optional arguments, setting default\u001b[39;00m\n\u001b[32m   2382\u001b[39m \u001b[38;5;28;01mif\u001b[39;00m \u001b[38;5;28mself\u001b[39m.a \u001b[38;5;129;01mis\u001b[39;00m \u001b[38;5;28;01mNone\u001b[39;00m \u001b[38;5;129;01mor\u001b[39;00m \u001b[38;5;28mself\u001b[39m.b \u001b[38;5;129;01mis\u001b[39;00m \u001b[38;5;28;01mNone\u001b[39;00m:\n\u001b[32m-> \u001b[39m\u001b[32m2383\u001b[39m     \u001b[38;5;28mself\u001b[39m._a, \u001b[38;5;28mself\u001b[39m._b = \u001b[43mfind_ab_params\u001b[49m\u001b[43m(\u001b[49m\u001b[38;5;28;43mself\u001b[39;49m\u001b[43m.\u001b[49m\u001b[43mspread\u001b[49m\u001b[43m,\u001b[49m\u001b[43m \u001b[49m\u001b[38;5;28;43mself\u001b[39;49m\u001b[43m.\u001b[49m\u001b[43mmin_dist\u001b[49m\u001b[43m)\u001b[49m\n\u001b[32m   2384\u001b[39m \u001b[38;5;28;01melse\u001b[39;00m:\n\u001b[32m   2385\u001b[39m     \u001b[38;5;28mself\u001b[39m._a = \u001b[38;5;28mself\u001b[39m.a\n",
      "\u001b[36mFile \u001b[39m\u001b[32m/opt/miniconda3/envs/bertopic/lib/python3.11/site-packages/umap/umap_.py:1405\u001b[39m, in \u001b[36mfind_ab_params\u001b[39m\u001b[34m(spread, min_dist)\u001b[39m\n\u001b[32m   1403\u001b[39m xv = np.linspace(\u001b[32m0\u001b[39m, spread * \u001b[32m3\u001b[39m, \u001b[32m300\u001b[39m)\n\u001b[32m   1404\u001b[39m yv = np.zeros(xv.shape)\n\u001b[32m-> \u001b[39m\u001b[32m1405\u001b[39m yv[\u001b[43mxv\u001b[49m\u001b[43m \u001b[49m\u001b[43m<\u001b[49m\u001b[43m \u001b[49m\u001b[43mmin_dist\u001b[49m] = \u001b[32m1.0\u001b[39m\n\u001b[32m   1406\u001b[39m yv[xv >= min_dist] = np.exp(-(xv[xv >= min_dist] - min_dist) / spread)\n\u001b[32m   1407\u001b[39m params, covar = curve_fit(curve, xv, yv)\n",
      "\u001b[31mTypeError\u001b[39m: '<' not supported between instances of 'float' and 'NoneType'"
     ]
    }
   ],
   "source": [
    "import pandas as pd\n",
    "\n",
    "import toolbox as tbx\n",
    "\n",
    "df = pd.read_csv(\"openalex_llm_social_02072025.csv\", \n",
    "    usecols=[\"title\", \"abstract\", \"topics.display_name\", \"language\",\"id\"])\n",
    "\n",
    "# filter off lines where language is not english\n",
    "# df[\"language\"].unique() \n",
    "# >>> array(['en', 'ca', nan, 'es', 'pt', 'hu', 'ru'], dtype=object)\n",
    "df = df.loc[df[\"language\"] == \"en\", :] # approx 99% of the lines are kept\n",
    "\n",
    "umap_model_parameters = {\n",
    "    \"n_neighbors\"   : 10,\n",
    "    \"n_components\"  : 2,\n",
    "    \"min_dist\"      : 0.1\n",
    "}\n",
    "\n",
    "hdbscan_model_parameters = {\n",
    "    \"hdbscan_min_cluster_size\" : 10,\n",
    "}\n",
    "\n",
    "topic_model_parameters = {\n",
    "    \"nr_topics\"         : None, \n",
    "    \"min_topic_size\"    : 10\n",
    "}\n",
    "\n",
    "topic_model = tbx.setup(umap_model_parameters, hdbscan_model_parameters, topic_model_parameters)\n",
    "\n",
    "predictions, probabilities = topic_model.fit_transform(\n",
    "    tbx.fetch_documents_and_embedding()[\"documents\"]\n",
    ")"
   ]
  },
  {
   "cell_type": "code",
   "execution_count": 3,
   "metadata": {},
   "outputs": [],
   "source": [
    "emb = tbx.fetch_documents_and_embedding()[\"embeddings\"]"
   ]
  },
  {
   "cell_type": "code",
   "execution_count": 2,
   "metadata": {},
   "outputs": [],
   "source": [
    "umap_model = tbx.create_umap_model(None, None, None)"
   ]
  },
  {
   "cell_type": "code",
   "execution_count": 8,
   "metadata": {},
   "outputs": [
    {
     "data": {
      "text/plain": [
       "(768, 100)"
      ]
     },
     "execution_count": 8,
     "metadata": {},
     "output_type": "execute_result"
    }
   ],
   "source": [
    "emb.T.shape"
   ]
  },
  {
   "cell_type": "code",
   "execution_count": 5,
   "metadata": {},
   "outputs": [
    {
     "ename": "AttributeError",
     "evalue": "'UMAP' object has no attribute '_raw_data'",
     "output_type": "error",
     "traceback": [
      "\u001b[31m---------------------------------------------------------------------------\u001b[39m",
      "\u001b[31mAttributeError\u001b[39m                            Traceback (most recent call last)",
      "\u001b[36mCell\u001b[39m\u001b[36m \u001b[39m\u001b[32mIn[5]\u001b[39m\u001b[32m, line 1\u001b[39m\n\u001b[32m----> \u001b[39m\u001b[32m1\u001b[39m \u001b[43mumap_model\u001b[49m\u001b[43m.\u001b[49m\u001b[43mtransform\u001b[49m\u001b[43m(\u001b[49m\u001b[43memb\u001b[49m\u001b[43m)\u001b[49m\n",
      "\u001b[36mFile \u001b[39m\u001b[32m/opt/miniconda3/envs/bertopic/lib/python3.11/site-packages/umap/umap_.py:2971\u001b[39m, in \u001b[36mUMAP.transform\u001b[39m\u001b[34m(self, X, ensure_all_finite)\u001b[39m\n\u001b[32m   2951\u001b[39m \u001b[38;5;250m\u001b[39m\u001b[33;03m\"\"\"Transform X into the existing embedded space and return that\u001b[39;00m\n\u001b[32m   2952\u001b[39m \u001b[33;03mtransformed output.\u001b[39;00m\n\u001b[32m   2953\u001b[39m \n\u001b[32m   (...)\u001b[39m\u001b[32m   2968\u001b[39m \u001b[33;03m    Embedding of the new data in low-dimensional space.\u001b[39;00m\n\u001b[32m   2969\u001b[39m \u001b[33;03m\"\"\"\u001b[39;00m\n\u001b[32m   2970\u001b[39m \u001b[38;5;66;03m# If we fit just a single instance then error\u001b[39;00m\n\u001b[32m-> \u001b[39m\u001b[32m2971\u001b[39m \u001b[38;5;28;01mif\u001b[39;00m \u001b[38;5;28;43mself\u001b[39;49m\u001b[43m.\u001b[49m\u001b[43m_raw_data\u001b[49m.shape[\u001b[32m0\u001b[39m] == \u001b[32m1\u001b[39m:\n\u001b[32m   2972\u001b[39m     \u001b[38;5;28;01mraise\u001b[39;00m \u001b[38;5;167;01mValueError\u001b[39;00m(\n\u001b[32m   2973\u001b[39m         \u001b[33m\"\u001b[39m\u001b[33mTransform unavailable when model was fit with only a single data sample.\u001b[39m\u001b[33m\"\u001b[39m\n\u001b[32m   2974\u001b[39m     )\n\u001b[32m   2975\u001b[39m \u001b[38;5;66;03m# If we just have the original input then short circuit things\u001b[39;00m\n",
      "\u001b[31mAttributeError\u001b[39m: 'UMAP' object has no attribute '_raw_data'"
     ]
    }
   ],
   "source": [
    "umap_model.transform(emb)"
   ]
  },
  {
   "cell_type": "code",
   "execution_count": null,
   "metadata": {},
   "outputs": [],
   "source": [
    "import numpy as np\n",
    "\n",
    "for irow, row in enumerate(emb):\n",
    "    for iel, el in enumerate(row):\n",
    "        if np.isnan(el):\n",
    "            print(f\"({irow},{iel}) {el}\")"
   ]
  },
  {
   "cell_type": "code",
   "execution_count": null,
   "metadata": {},
   "outputs": [],
   "source": []
  }
 ],
 "metadata": {
  "kernelspec": {
   "display_name": "bertopic",
   "language": "python",
   "name": "python3"
  },
  "language_info": {
   "codemirror_mode": {
    "name": "ipython",
    "version": 3
   },
   "file_extension": ".py",
   "mimetype": "text/x-python",
   "name": "python",
   "nbconvert_exporter": "python",
   "pygments_lexer": "ipython3",
   "version": "3.11.13"
  }
 },
 "nbformat": 4,
 "nbformat_minor": 2
}
